{
 "cells": [
  {
   "cell_type": "markdown",
   "id": "44d47238-5956-45cd-a842-020309ea781a",
   "metadata": {},
   "source": [
    "# Gabrielle Angelo Cortez\n",
    "Notebook for assignment 7"
   ]
  },
  {
   "cell_type": "code",
   "execution_count": 3,
   "id": "83b0b8ab-6a14-41d2-8a14-6537a4113c97",
   "metadata": {},
   "outputs": [
    {
     "data": {
      "text/plain": [
       "5.0"
      ]
     },
     "execution_count": 3,
     "metadata": {},
     "output_type": "execute_result"
    }
   ],
   "source": [
    "def compute_mean(x):\n",
    "    total = sum(x)\n",
    "    count = len(x)\n",
    "    mean = total/count\n",
    "    return mean\n",
    "\n",
    "compute_mean([2, 4, 6, 8])"
   ]
  },
  {
   "cell_type": "markdown",
   "id": "159c7a6b-9359-4359-abdd-66b01cc1f1ea",
   "metadata": {},
   "source": [
    "$ \\overline{x} = \\frac{x_1 + x_2 + ... + x_n}{n} = \\frac{1}{n} (\\sum_{i=1}^{n} x_i) $"
   ]
  },
  {
   "cell_type": "code",
   "execution_count": null,
   "id": "4f123a1d-487d-4c62-b145-1c6ac98f6fbf",
   "metadata": {},
   "outputs": [],
   "source": []
  }
 ],
 "metadata": {
  "kernelspec": {
   "display_name": "Python 3 (ipykernel)",
   "language": "python",
   "name": "python3"
  },
  "language_info": {
   "codemirror_mode": {
    "name": "ipython",
    "version": 3
   },
   "file_extension": ".py",
   "mimetype": "text/x-python",
   "name": "python",
   "nbconvert_exporter": "python",
   "pygments_lexer": "ipython3",
   "version": "3.12.3"
  }
 },
 "nbformat": 4,
 "nbformat_minor": 5
}
